{
 "cells": [
  {
   "cell_type": "markdown",
   "metadata": {},
   "source": [
    "# Problem 1"
   ]
  },
  {
   "cell_type": "markdown",
   "metadata": {},
   "source": [
    "### First, we need to find the frequent items in the set of transactions\n",
    "### We can make a table of the frequencies of each item\n",
    "\n",
    "|Item|Count|\n",
    "|------|------|\n",
    "|Bread| 4|\n",
    "|Milk| 4|\n",
    "|Beer| 3|\n",
    "|Diaper| 4|\n",
    "|Eggs| 1|\n",
    "|Coke| 2|"
   ]
  },
  {
   "cell_type": "markdown",
   "metadata": {},
   "source": [
    "### Next, we find each item with a count above 2, then we make it so each transaction only contains frequent items sorted by frequency\n",
    "\n",
    "|TID| Items|\n",
    "|------|------|\n",
    "|1|Bread, Milk|\n",
    "|2|Bread, Diaper, Beer|\n",
    "|3|Diaper, Milk, Beer, Coke|\n",
    "|4|Bread, Diaper, Milk, Beer|\n",
    "|5|Bread, Diaper, Milk, Coke|\n",
    "\n",
    "### Steps to create FP Tree\n",
    "![fp tree](Tree1.png)"
   ]
  },
  {
   "cell_type": "markdown",
   "metadata": {},
   "source": []
  },
  {
   "cell_type": "code",
   "execution_count": 1,
   "metadata": {},
   "outputs": [],
   "source": [
    "transactions = {'1': set(('bread', 'milk')),\n",
    "                '2': set(('beer', 'bread', 'diaper', 'eggs')),\n",
    "                '3': set(('beer', 'coke', 'diaper', 'milk')),\n",
    "                '4': set(('beer', 'bread', 'diaper', 'milk')),\n",
    "                '5': set(('bread', 'coke', 'diaper', 'milk'))}\n",
    "minsup = 2"
   ]
  },
  {
   "cell_type": "code",
   "execution_count": 2,
   "metadata": {},
   "outputs": [
    {
     "data": {
      "text/plain": [
       "{'bread': 4, 'milk': 4, 'diaper': 4, 'eggs': 1, 'beer': 3, 'coke': 2}"
      ]
     },
     "execution_count": 2,
     "metadata": {},
     "output_type": "execute_result"
    }
   ],
   "source": [
    "def getFrequencies(transactions): #build dictionary of items and their frequencies\n",
    "    frequencies = {}\n",
    "    for key in transactions:\n",
    "        for item in transactions[key]:\n",
    "            if item in frequencies:\n",
    "                frequencies[item] += 1\n",
    "            else:\n",
    "                frequencies[item] = 1\n",
    "    return frequencies\n",
    "\n",
    "frequencies = getFrequencies(transactions)    \n",
    "frequencies"
   ]
  },
  {
   "cell_type": "code",
   "execution_count": 3,
   "metadata": {},
   "outputs": [
    {
     "data": {
      "text/plain": [
       "{'bread': 4, 'milk': 4, 'diaper': 4, 'beer': 3, 'coke': 2}"
      ]
     },
     "execution_count": 3,
     "metadata": {},
     "output_type": "execute_result"
    }
   ],
   "source": [
    "def getFrequentItems(frequencies, minsup): #only show items with count above minimum support\n",
    "    items = {}\n",
    "    for key in frequencies:\n",
    "        if frequencies[key] >= minsup:\n",
    "            items[key] = frequencies[key]\n",
    "    return items\n",
    "\n",
    "frequentItems = getFrequentItems(frequencies, minsup)\n",
    "frequentItems"
   ]
  },
  {
   "cell_type": "code",
   "execution_count": 4,
   "metadata": {},
   "outputs": [
    {
     "data": {
      "text/plain": [
       "{'1': ['bread', 'milk'],\n",
       " '2': ['diaper', 'bread', 'beer'],\n",
       " '3': ['diaper', 'milk', 'beer', 'coke'],\n",
       " '4': ['diaper', 'milk', 'bread', 'beer'],\n",
       " '5': ['diaper', 'bread', 'milk', 'coke']}"
      ]
     },
     "execution_count": 4,
     "metadata": {},
     "output_type": "execute_result"
    }
   ],
   "source": [
    "def frequentInTransactions(transactions, minsup): \n",
    "    #return dictionary of transactions and sorted frequent items\n",
    "    frequentTransactions = {}\n",
    "    frequencies = getFrequencies(transactions)\n",
    "    frequentItems = getFrequentItems(frequencies, minsup)\n",
    "    for key in transactions:\n",
    "        frequentTransactions[key] = []\n",
    "        for item in transactions[key]:\n",
    "            if item in frequentItems.keys():\n",
    "                frequentTransactions[key].append((item, frequentItems[item]))\n",
    "    \n",
    "    for key in frequentTransactions:\n",
    "        frequentTransactions[key].sort(key=lambda x: x[1], reverse=True)\n",
    "        frequentTransactions[key] = list(map(lambda pair: pair[0], frequentTransactions[key]))\n",
    "    return frequentTransactions\n",
    "\n",
    "frequent = frequentInTransactions(transactions, 2)\n",
    "frequent"
   ]
  },
  {
   "cell_type": "markdown",
   "metadata": {},
   "source": [
    "## Construct class to represent FPTree and internal nodes in each tree"
   ]
  },
  {
   "cell_type": "code",
   "execution_count": 5,
   "metadata": {},
   "outputs": [],
   "source": [
    "class node:\n",
    "    def __init__(self, value = None):\n",
    "        self._value = (value, 1)\n",
    "        self._children = {} #dictionary to keep track of children in node\n",
    "    \n",
    "    def insert(self, value): \n",
    "        #insert value into node, and return the new node created in order to keep track of pointers to node\n",
    "        if value == self._value[0]:\n",
    "            self._value = (self._value[0], self._value[1] + 1)\n",
    "            return self\n",
    "        elif str(value) in self._children:\n",
    "            self._children[str(value)].insert(value)\n",
    "        else:\n",
    "            newNode = node(value)\n",
    "            self._children[str(value)] = newNode\n",
    "            return newNode\n",
    "    '''    \n",
    "    def printTree(self):\n",
    "        s = str(self._value[0])\n",
    "        for elem in self._children:\n",
    "            s += \" \" + self._children[elem].printTree() + \"\\n\"\n",
    "        s += '\\n\\t'\n",
    "        return s\n",
    "    '''\n",
    "        \n",
    "class FPTree:\n",
    "    def __init__(self, transactions, minsup):\n",
    "        self._root = node()\n",
    "        self._transactions = transactions\n",
    "        self._minsup = minsup\n",
    "        self._pointers = {}\n",
    "        self._constructTree()\n",
    "        \n",
    "    def _constructTree(self):\n",
    "        frequent = frequentInTransactions(self._transactions, self._minsup)\n",
    "        for key in frequent:\n",
    "            self.insert(frequent[key])\n",
    "    \n",
    "    def insert(self, values):\n",
    "        curr = self._root\n",
    "        for value in values:\n",
    "            newNode = None\n",
    "            if str(value) in curr._children:\n",
    "                curr = curr._children[str(value)]\n",
    "                newNode = curr.insert(value)\n",
    "            else:\n",
    "                newNode = curr.insert(value)\n",
    "                curr = curr._children[str(value)]\n",
    "            if not str(value) in self._pointers:\n",
    "                self._pointers[str(value)] = set()\n",
    "            self._pointers[str(value)].add(newNode)\n",
    "    '''        \n",
    "    def printTree(self):\n",
    "        return self._root.printTree()\n",
    "    '''     "
   ]
  },
  {
   "cell_type": "code",
   "execution_count": 6,
   "metadata": {},
   "outputs": [],
   "source": [
    "fp = FPTree(transactions, 2)"
   ]
  },
  {
   "cell_type": "code",
   "execution_count": 7,
   "metadata": {},
   "outputs": [
    {
     "data": {
      "text/plain": [
       "{'bread': {<__main__.node at 0x1c4e88fc4e0>,\n",
       "  <__main__.node at 0x1c4e88fc6a0>,\n",
       "  <__main__.node at 0x1c4e88fccc0>},\n",
       " 'milk': {<__main__.node at 0x1c4e88fc2e8>,\n",
       "  <__main__.node at 0x1c4e88fc8d0>,\n",
       "  <__main__.node at 0x1c4e890f748>},\n",
       " 'diaper': {<__main__.node at 0x1c4e88fc400>},\n",
       " 'beer': {<__main__.node at 0x1c4e88fc470>,\n",
       "  <__main__.node at 0x1c4e88fc978>,\n",
       "  <__main__.node at 0x1c4e890f198>},\n",
       " 'coke': {<__main__.node at 0x1c4e88fcf98>, <__main__.node at 0x1c4e890f438>}}"
      ]
     },
     "execution_count": 7,
     "metadata": {},
     "output_type": "execute_result"
    }
   ],
   "source": [
    "fp._pointers"
   ]
  },
  {
   "cell_type": "code",
   "execution_count": 8,
   "metadata": {},
   "outputs": [
    {
     "name": "stdout",
     "output_type": "stream",
     "text": [
      "('bread', 2)\n",
      "('bread', 1)\n",
      "('bread', 1)\n",
      "('milk', 1)\n",
      "('milk', 2)\n",
      "('milk', 1)\n",
      "('diaper', 4)\n",
      "('beer', 1)\n",
      "('beer', 1)\n",
      "('beer', 1)\n",
      "('coke', 1)\n",
      "('coke', 1)\n"
     ]
    }
   ],
   "source": [
    "for key in fp._pointers:\n",
    "    for elem in fp._pointers[key]:\n",
    "        print(elem._value)"
   ]
  },
  {
   "cell_type": "markdown",
   "metadata": {},
   "source": [
    "# Problem 2"
   ]
  },
  {
   "cell_type": "markdown",
   "metadata": {},
   "source": [
    "### Table of the count of each item\n",
    "\n",
    "|Item| Count|\n",
    "|----|-----|\n",
    "|A|2|\n",
    "|C|3|\n",
    "|D|1|\n",
    "|B|3|\n",
    "|E|3|\n",
    "\n",
    "### Table of transactions with sorted frequent items only\n",
    "\n",
    "|TID|Items|\n",
    "|-----|-----|\n",
    "|10|C, A|\n",
    "|20|C, B, E|\n",
    "|30|C, B, E, A|\n",
    "|40|B, E|\n",
    "\n"
   ]
  },
  {
   "cell_type": "markdown",
   "metadata": {},
   "source": [
    "### Final FP Tree created step by step\n",
    "![fp tree](Tree2.png)"
   ]
  },
  {
   "cell_type": "markdown",
   "metadata": {},
   "source": []
  },
  {
   "cell_type": "code",
   "execution_count": 9,
   "metadata": {},
   "outputs": [],
   "source": [
    "transactions2 = {'10': set(('A', 'C', 'D')), \n",
    "                '20': set(('B', 'C', 'E')),\n",
    "                '30': set(('A', 'B', 'C', 'E')),\n",
    "                '40': set(('B', 'E'))}\n",
    "fp2 = FPTree(transactions2, 2)"
   ]
  },
  {
   "cell_type": "code",
   "execution_count": 10,
   "metadata": {},
   "outputs": [
    {
     "name": "stdout",
     "output_type": "stream",
     "text": [
      "('C', 3)\n",
      "('A', 1)\n",
      "('A', 1)\n",
      "('B', 2)\n",
      "('B', 1)\n",
      "('E', 2)\n",
      "('E', 1)\n"
     ]
    }
   ],
   "source": [
    "for key in fp2._pointers:\n",
    "    for elem in fp2._pointers[key]:\n",
    "        print(elem._value)"
   ]
  },
  {
   "cell_type": "markdown",
   "metadata": {},
   "source": [
    "### Notice here that the algorithm I implemented created a different tree than the one in the above diagram, though both have the same number of nodes and should be another optimal representation of the FPTree"
   ]
  },
  {
   "cell_type": "code",
   "execution_count": 11,
   "metadata": {},
   "outputs": [
    {
     "data": {
      "text/plain": [
       "{'C': {<__main__.node at 0x1c4e8931080>},\n",
       " 'A': {<__main__.node at 0x1c4e89310b8>, <__main__.node at 0x1c4e8931160>},\n",
       " 'B': {<__main__.node at 0x1c4e89310f0>, <__main__.node at 0x1c4e89311d0>},\n",
       " 'E': {<__main__.node at 0x1c4e8931048>, <__main__.node at 0x1c4e8931198>}}"
      ]
     },
     "execution_count": 11,
     "metadata": {},
     "output_type": "execute_result"
    }
   ],
   "source": [
    "fp2._pointers"
   ]
  }
 ],
 "metadata": {
  "kernelspec": {
   "display_name": "Python 3",
   "language": "python",
   "name": "python3"
  },
  "language_info": {
   "codemirror_mode": {
    "name": "ipython",
    "version": 3
   },
   "file_extension": ".py",
   "mimetype": "text/x-python",
   "name": "python",
   "nbconvert_exporter": "python",
   "pygments_lexer": "ipython3",
   "version": "3.7.1"
  }
 },
 "nbformat": 4,
 "nbformat_minor": 2
}
